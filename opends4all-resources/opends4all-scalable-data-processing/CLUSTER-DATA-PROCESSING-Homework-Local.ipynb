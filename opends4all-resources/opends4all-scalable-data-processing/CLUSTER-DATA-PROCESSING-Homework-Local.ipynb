{
 "cells": [
  {
   "cell_type": "markdown",
   "metadata": {
    "colab_type": "text",
    "id": "qVMCjEV1IEC7"
   },
   "source": [
    "#Homework: Spark SQL\n",
    "\n",
    "In this homework you will gain a mastery of using Spark SQL. The homework can be run locally or on an EMR cluster.  The current version is for running locally.  \n",
    "\n",
    "The goal of the homework will be to create a training dataset for a Random Forest Machine learning model. The training data set will contain the monthly number of employees hired by companies in `linkedin.json` and their corresponding closing stock prices over a 10+ year period (1970-2018 `stock_prices.csv`). We will try and predict, based on this data, if the company will have a positive or negative growth in stock in the first quarter of the next year. Who's ready to make some money?\n",
    "\n",
    "## Notes\n",
    "Before we begin here are some important notes to keep in mind,\n",
    "\n",
    "1. You are **required** to use Spark SQL queries to handle the data in the assignment. Mastering SQL is more beneficial than being able to use Spark commands (functions) as it will show up in more areas of programming and data science/analytics than just Spark. Use the following [function list](https://spark.apache.org/docs/latest/api/sql/index.html#) to see all the SQL functions avaliable in Spark.\n",
    "\n",
    "2. There are portions of this homework that are _very_ challenging. \n"
   ]
  },
  {
   "cell_type": "code",
   "execution_count": null,
   "metadata": {
    "colab": {},
    "colab_type": "code",
    "id": "pvkEbVaaAQ1e"
   },
   "outputs": [],
   "source": [
    "%%capture\n",
    "!apt update\n",
    "!apt install gcc python-dev libkrb5-dev\n",
    "!pip install sparkmagic\n",
    "!pip install pyspark"
   ]
  },
  {
   "cell_type": "code",
   "execution_count": null,
   "metadata": {
    "colab": {},
    "colab_type": "code",
    "id": "IAvEMpzqqHeY"
   },
   "outputs": [],
   "source": [
    "import os\n",
    "os.environ[\"JAVA_HOME\"] = \"/usr/lib/jvm/java-8-openjdk-amd64\"\n",
    "import pyspark\n",
    "from pyspark.sql import SparkSession\n",
    "from pyspark.sql.types import *\n",
    "import pyspark.sql.functions as F\n",
    "from pyspark.sql import SQLContext\n",
    "import json\n",
    "import urllib.request\n",
    "\n",
    "from datetime import datetime\n",
    "\n",
    "try:\n",
    "    if(spark == None):\n",
    "        spark = SparkSession.builder.appName('Graphs').getOrCreate()\n",
    "        sqlContext=SQLContext(spark)\n",
    "        \n",
    "except NameError:\n",
    "    spark = SparkSession.builder.appName('Graphs').getOrCreate()\n",
    "    sqlContext=SQLContext(spark)\n",
    "        \n",
    "from pyspark.sql.types import *"
   ]
  },
  {
   "cell_type": "markdown",
   "metadata": {
    "colab_type": "text",
    "id": "Nf_ADEXnIK0b"
   },
   "source": [
    "## Step 1: Data Cleaning and Shaping\n",
    "\n",
    "When used for single machine like Colab, you should mount Google Drive to Colab and visit the data file locally. \n",
    "\n",
    "If used remotely, please refer to the 'remote' version of the notebook. For remote version, the data you will use is stored in an S3 bucket, a cloud storage service. You now need to download it onto the nodes of your [EMR cluster](https://docs.aws.amazon.com/emr/latest/ManagementGuide/emr-what-is-emr.html). \n",
    "\n",
    "### Step 1.1: The Stupendous Schema\n",
    "\n",
    "When loading data, Spark will try to infer the structure. This process is faulty because it will sometimes infer the type incorrectly. JSON documents, like the one we will use, can have nested types, such as: arrays, arrays of dictionaries, dictionaries of dictionaries, etc. Spark's ability to determine these nested types is not reliable, thus you will define a schema for `linkedin.json`.\n",
    "\n",
    "A schema is a description of the structure of data. You will be defining an explicit schema for `linkedin.json`. In Spark, schemas are defined using a `StructType` object. This is a collection of data types, termed `StructField`s, that specify the structure and variable type of each component of the dataset. For example, suppose we have the following simple JSON object,\n",
    "\n",
    "\n",
    "```\n",
    "{\n",
    " \"student_name\": \"Leonardo Murri\",\n",
    " \"GPA\": 1.4,\n",
    " \"courses\": [\n",
    "    {\"department\": \"Computer and Information Science\",\n",
    "     \"course_id\": \"CIS 545\",\n",
    "     \"semester\": \"Fall 2018\"},\n",
    "    {\"department\": \"Computer and Information Science\",\n",
    "     \"course_id\": \"CIS 520\",\n",
    "     \"semester\": \"Fall 2018\"},\n",
    "    {\"department\": \"Electrical and Systems Engineering\",\n",
    "     \"course_id\": \"ESE 650\",\n",
    "     \"semester\": \"Spring 2018\"}\n",
    " ],\n",
    " \"grad_year\": 2019\n",
    " }\n",
    "```\n",
    "\n",
    "We would define its schema as follows,\n",
    "\n",
    "```       \n",
    "schema = StructType([\n",
    "           StructField(\"student_name\", StringType(), nullable=True),\n",
    "           StructField(\"GPA\", FloatType(), nullable=True),\n",
    "           StructField(\"courses\", ArrayType(\n",
    "                StructType([\n",
    "                  StructField(\"department\", StringType(), nullable=True),\n",
    "                  StructField(\"course_id\", StringType(), nullable=True),\n",
    "                  StructField(\"semester\", StringType(), nullable=True)\n",
    "                ])\n",
    "           ), nullable=True),\n",
    "           StructField(\"grad_year\", IntegerType(), nullable=True)\n",
    "         ])\n",
    "```\n",
    "\n",
    "\n",
    "Each `StructField` has the following structure: `(name, type, nullable)`. The `nullable` flag defines that the specified field may be empty. Your first task is to define the `schema` of `linkedin.json`. \n",
    "\n",
    "_Note_: In `linkedin.json` the field `specilities` is spelled incorrectly. This is **not** a typo. \n"
   ]
  },
  {
   "cell_type": "code",
   "execution_count": null,
   "metadata": {
    "colab": {},
    "colab_type": "code",
    "id": "pL-Ps4KWIJ9e"
   },
   "outputs": [],
   "source": [
    "# TODO: Define [linkedin.json] schema\n",
    "# YOUR CODE HERE\n"
   ]
  },
  {
   "cell_type": "markdown",
   "metadata": {
    "colab_type": "text",
    "id": "2Su604X9ggc2"
   },
   "source": [
    "### Step 1.2: The Laudable Loading\n",
    "\n",
    "Load the `linkedin.json` dataset into a Spark dataframe (sdf) called `raw_data_sdf`. If you have constructed `schema` correctly `spark.read.json()` will read in the dataset. ***You do not need to edit this cell***."
   ]
  },
  {
   "cell_type": "code",
   "execution_count": null,
   "metadata": {
    "colab": {
     "base_uri": "https://localhost:8080/",
     "height": 121
    },
    "colab_type": "code",
    "executionInfo": {
     "elapsed": 21575,
     "status": "ok",
     "timestamp": 1582169581096,
     "user": {
      "displayName": "Leshang Chen",
      "photoUrl": "",
      "userId": "00573172153387237137"
     },
     "user_tz": 300
    },
    "id": "wNsZhq-pDGgB",
    "outputId": "ee22c813-a542-4262-ba43-2c7782c523d8"
   },
   "outputs": [],
   "source": [
    "from google.colab import drive\n",
    "drive.mount('/content/drive', force_remount=True)"
   ]
  },
  {
   "cell_type": "code",
   "execution_count": null,
   "metadata": {
    "colab": {},
    "colab_type": "code",
    "id": "ji-KW2sAiB6r"
   },
   "outputs": [],
   "source": [
    "raw_data_sdf = spark.read.json('/content/drive/My Drive/Colab Notebooks/test_data_10000.json', schema=schema)"
   ]
  },
  {
   "cell_type": "code",
   "execution_count": null,
   "metadata": {
    "colab": {
     "base_uri": "https://localhost:8080/",
     "height": 306
    },
    "colab_type": "code",
    "executionInfo": {
     "elapsed": 526,
     "status": "ok",
     "timestamp": 1582171462196,
     "user": {
      "displayName": "Leshang Chen",
      "photoUrl": "",
      "userId": "00573172153387237137"
     },
     "user_tz": 300
    },
    "id": "FkW0CN1VT3kd",
    "outputId": "12d38aba-59df-40db-ccb0-17a4f0e240d7"
   },
   "outputs": [],
   "source": [
    "raw_data_sdf.show(10)"
   ]
  },
  {
   "cell_type": "code",
   "execution_count": null,
   "metadata": {
    "colab": {
     "base_uri": "https://localhost:8080/",
     "height": 34
    },
    "colab_type": "code",
    "executionInfo": {
     "elapsed": 618,
     "status": "ok",
     "timestamp": 1582171463428,
     "user": {
      "displayName": "Leshang Chen",
      "photoUrl": "",
      "userId": "00573172153387237137"
     },
     "user_tz": 300
    },
    "id": "zCmFnfgCwv-V",
    "outputId": "41c2d096-daeb-48ab-a8be-35c0250e6c10"
   },
   "outputs": [],
   "source": [
    "raw_data_sdf.where(F.col('_id').isNull()).count()"
   ]
  },
  {
   "cell_type": "markdown",
   "metadata": {
    "colab_type": "text",
    "id": "jMVCVotcE1wv"
   },
   "source": [
    "The cell below shows how to run SQL commands on Spark tables. Use this as a template for all your SQL queries in this notebook. ***You do not need to edit this cell***."
   ]
  },
  {
   "cell_type": "code",
   "execution_count": null,
   "metadata": {
    "colab": {
     "base_uri": "https://localhost:8080/",
     "height": 306
    },
    "colab_type": "code",
    "executionInfo": {
     "elapsed": 1416,
     "status": "ok",
     "timestamp": 1582171477319,
     "user": {
      "displayName": "Leshang Chen",
      "photoUrl": "",
      "userId": "00573172153387237137"
     },
     "user_tz": 300
    },
    "id": "NJSVWeGiEO5c",
    "outputId": "969045cb-e092-4f50-9cd0-c956049a7c47"
   },
   "outputs": [],
   "source": [
    "# Create SQL-accesible table\n",
    "raw_data_sdf.createOrReplaceTempView(\"raw_data\")\n",
    "\n",
    "# Declare SQL query to be excecuted\n",
    "query = '''SELECT * \n",
    "           FROM raw_data'''\n",
    "\n",
    "# Save the output sdf of spark.sql() as answer_sdf\n",
    "answer_sdf = spark.sql(query)\n",
    "\n",
    "# Display the first 10 rows\n",
    "answer_sdf.show(10)"
   ]
  },
  {
   "cell_type": "markdown",
   "metadata": {
    "colab_type": "text",
    "id": "svOO4iLPist4"
   },
   "source": [
    "### Step 1.3: The Extravagent Extraction\n",
    "\n",
    "In our training model, we are interested in when individuals began working at a company.  From creating the schema, you should notice that the collection of companies inviduals worked at are contained in the `experience` field as an array of dictionaries. You should use the `org` for the company name and `start` for the start date. Here is an example of an `experience` field,\n",
    "\n",
    "```\n",
    "{\n",
    "   \"experience\": [\n",
    "     {\n",
    "        \"org\": \"The Walt Disney Company\", \n",
    "        \"title\" : \"Mickey Mouse\",\n",
    "        \"end\" : \"Present\",\n",
    "        \"start\": \"November 1928\",\n",
    "        \"desc\": \"Sailed a boat.\"\n",
    "     },\n",
    "     {\n",
    "        \"org\": \"Walt Disney World Resort\",\n",
    "        \"title\": \"Mickey Mouse Mascot\",\n",
    "        \"start\": \"January 2005\",\n",
    "        \"desc\": \"Took pictures with kids.\"\n",
    "     }\n",
    "   ]\n",
    "}\n",
    "```\n",
    "\n",
    "Your task is to extract each pair of company and start date from these arrays. In Spark, this is known as \"exploding\" a row. An explode will seperate the elements of an array into multiple rows.\n",
    "\n",
    "Create an sdf called `raw_start_dates_sdf` that contains the company and start date for every experience of every individual in `raw_data_sdf`. Drop any row that contains a `null` in either column with `dropna()`. You can sort the elements however you wish (you don't need to if you don't want to). The sdf should look as follows:\n",
    "\n",
    "```\n",
    "+--------------------------+---------------+\n",
    "|org                       |start_date     |\n",
    "+--------------------------+---------------+\n",
    "|Walt Disney World Resort  |January 2005   | \n",
    "|The Walt Disney Company   |November 1928  |\n",
    "|...                       |...            |\n",
    "+--------------------------+---------------+\n",
    "```\n",
    "\n",
    "_Hint_: You may want to do two seperate explodes for `org` and `start`. In an explode, the position of the element in the array can be extracted as well, and used to merge two seperate explodes. Reference the [function list](https://spark.apache.org/docs/2.3.0/api/sql/index.html).\n",
    "\n",
    "_Note_: Some of the entires in `org` are \"weird\", i.e. made up of non-english letters and characters. Keep them. **DO NOT** edit any name in the original dataframe unless we specify. **DO NOT** drop any row unless there is a `null` value as stated before. This goes for the rest of the homework as well, unless otherwise specified."
   ]
  },
  {
   "cell_type": "code",
   "execution_count": null,
   "metadata": {
    "colab": {},
    "colab_type": "code",
    "id": "Kt16tyP0klQX"
   },
   "outputs": [],
   "source": [
    "# TODO: Create [raw_start_dates_sdf]\n",
    "\n",
    "  ##YOUR ANSWER HERE\n"
   ]
  },
  {
   "cell_type": "code",
   "execution_count": null,
   "metadata": {
    "colab": {
     "base_uri": "https://localhost:8080/",
     "height": 185
    },
    "colab_type": "code",
    "executionInfo": {
     "elapsed": 3607,
     "status": "ok",
     "timestamp": 1582171479520,
     "user": {
      "displayName": "Leshang Chen",
      "photoUrl": "",
      "userId": "00573172153387237137"
     },
     "user_tz": 300
    },
    "id": "-a3xLDEYCcwl",
    "outputId": "a29f787c-67df-4d4b-c950-ab719eae4bbf"
   },
   "outputs": [],
   "source": [
    "raw_start_dates_sdf.show(4)"
   ]
  },
  {
   "cell_type": "markdown",
   "metadata": {
    "colab_type": "text",
    "id": "zSbb0t-d-VFt"
   },
   "source": [
    "### Step 1.4: The Fortuitous Formatting\n",
    "\n",
    "There are two issues with the values in our `date` column. First, the values are saved as strings, not datetime types. This keeps us from running functions such as `ORDER BY` or `GROUP BY` on common months or years. Second, some values do not have both month and year information or are in other languages. Your task is to filter out and clean the `date` column. We are interested in only those rows that have date in the following format \"(month_name) (year)\", e.g. \"October 2010\".\n",
    "\n",
    "Create an sdf called `filtered_start_dates_sdf` from `raw_start_dates_sdf` with the `date` column filtered in the manner above. Keep only those rows with a start date between January 2000 to December 2011, inclusive. Ensure that any dates that are not in our desired format are ommitted. Drop any row that contains a `null` in either column. The format of the sdf is shown below:\n",
    "```\n",
    "+--------------------------+---------------+\n",
    "|org                       |start_date     |\n",
    "+--------------------------+---------------+\n",
    "|Walt Disney World Resort  |2005-01-01     | \n",
    "|...                       |...            |\n",
    "+--------------------------+---------------+\n",
    "```\n",
    "_Hint_: Refer to the [function list](https://spark.apache.org/docs/2.3.0/api/sql/index.html) to format the `date` column. In Spark SQL the date format we are interested in is `\"MMM y\"`.\n",
    "\n",
    "_Note_: Spark will return the date in the format above, with the day as `01`. This is ok, since we are interested in the month and year each individual began working and all dates will have `01` as their day."
   ]
  },
  {
   "cell_type": "code",
   "execution_count": null,
   "metadata": {
    "colab": {},
    "colab_type": "code",
    "id": "eelgTtOc_MBM"
   },
   "outputs": [],
   "source": [
    "# TODO: Create [filtered_start_dates_sdf]\n",
    "\n",
    "## YOUR ANSWER HERE\n"
   ]
  },
  {
   "cell_type": "code",
   "execution_count": null,
   "metadata": {
    "colab": {
     "base_uri": "https://localhost:8080/",
     "height": 454
    },
    "colab_type": "code",
    "executionInfo": {
     "elapsed": 1990,
     "status": "ok",
     "timestamp": 1582171618456,
     "user": {
      "displayName": "Leshang Chen",
      "photoUrl": "",
      "userId": "00573172153387237137"
     },
     "user_tz": 300
    },
    "id": "XYUuIQHfxueC",
    "outputId": "376dd964-1bed-4283-9ab3-d22415c16131"
   },
   "outputs": [],
   "source": [
    "filtered_start_dates_sdf.show()"
   ]
  },
  {
   "cell_type": "markdown",
   "metadata": {
    "colab_type": "text",
    "id": "LXYYQn2_GYwZ"
   },
   "source": [
    "### Step 1.5 The Gregarious Grouping\n",
    "\n",
    "We now want to collect the number of individuals that started in the same month and year for each company. Create an sdf called `start_dates_sdf` that has the total number of employees who began working at the same company on the same start date. The format of the sdf is shown below:\n",
    "\n",
    "```\n",
    "+--------------------------+---------------+---------------+\n",
    "|org                       |start_date     |num_employees  |\n",
    "+--------------------------+---------------+---------------+\n",
    "|Walt Disney World Resort  |2005-01-01     |1              |\n",
    "|...                       |...            |...            |\n",
    "+--------------------------+---------------+---------------+\n",
    "```"
   ]
  },
  {
   "cell_type": "code",
   "execution_count": null,
   "metadata": {
    "colab": {},
    "colab_type": "code",
    "id": "CxVIyc1CHooV"
   },
   "outputs": [],
   "source": [
    "# TODO: Create [start_dates_sdf]\n",
    "\n",
    "## YOUR ANSWER HERE\n"
   ]
  },
  {
   "cell_type": "code",
   "execution_count": null,
   "metadata": {
    "colab": {
     "base_uri": "https://localhost:8080/",
     "height": 454
    },
    "colab_type": "code",
    "executionInfo": {
     "elapsed": 4262,
     "status": "ok",
     "timestamp": 1582171632825,
     "user": {
      "displayName": "Leshang Chen",
      "photoUrl": "",
      "userId": "00573172153387237137"
     },
     "user_tz": 300
    },
    "id": "NUMwzSPgxxLY",
    "outputId": "be715dce-bfef-483b-eea8-1cb4dda12348"
   },
   "outputs": [],
   "source": [
    "start_dates_sdf.show()"
   ]
  },
  {
   "cell_type": "markdown",
   "metadata": {
    "colab_type": "text",
    "id": "QYScM3FwJnUz"
   },
   "source": [
    "## Step 2: Hiring Trends Analysis\n",
    "\n",
    "Now we will analyze `start_dates_sdf` to find monthly and annual hiring trends.\n",
    "\n",
    "### Step 2.1: The Marvelous Months\n",
    "\n",
    "Your task is to answer the question: \"On average, what month do most employees start working?\" Create an sdf called `monthly_hires_sdf` which contains the total number of employees that started working on a specific month, at any company and on any year. The `month` column should be of type `int`, i.e. 1-12. The format of the sdf is shown below:\n",
    "\n",
    "```\n",
    "+---------------+---------------+\n",
    "|month          |num_employees  |\n",
    "+---------------+---------------+\n",
    "|1              |...            |\n",
    "|2              |...            |\n",
    "|3              |...            |\n",
    "|...            |...            |\n",
    "+---------------+---------------+\n",
    "```\n",
    "\n",
    "Find the month in which the most employees start working and save its number as an integer to the variable `most_common_month`.\n",
    "\n",
    "_Hint_: Be careful. The start dates we have right now have both month and year. We only want the common months. See if you can find something in the [function list](https://spark.apache.org/docs/2.3.0/api/sql/index.html) that will help you do this."
   ]
  },
  {
   "cell_type": "code",
   "execution_count": null,
   "metadata": {
    "colab": {},
    "colab_type": "code",
    "id": "vLTmvD9WNQH3"
   },
   "outputs": [],
   "source": [
    "# TODO: Create [monthly_hire_sdf] and find the most common month people were\n",
    "# hired. Save its number as an integer to [most_common_month]\n",
    "\n",
    "## YOUR ANSWER HERE\n"
   ]
  },
  {
   "cell_type": "code",
   "execution_count": null,
   "metadata": {
    "colab": {
     "base_uri": "https://localhost:8080/",
     "height": 302
    },
    "colab_type": "code",
    "executionInfo": {
     "elapsed": 7554,
     "status": "ok",
     "timestamp": 1582171651407,
     "user": {
      "displayName": "Leshang Chen",
      "photoUrl": "",
      "userId": "00573172153387237137"
     },
     "user_tz": 300
    },
    "id": "wfbGoGMRx0w8",
    "outputId": "677c245a-237e-4a24-dacf-badc26a23e06"
   },
   "outputs": [],
   "source": [
    "monthly_hires_sdf.show()"
   ]
  },
  {
   "cell_type": "markdown",
   "metadata": {
    "colab_type": "text",
    "id": "CUtVHRcMUoWp"
   },
   "source": [
    "### Step 2.2: The Preposterous Percentages\n",
    "\n",
    "The next question we will answer is \"What is the percentage change in hires between 2010 and 2011 for each company?\" Create an sdf called `percentage_change_sdf` that has the percentage change between 2010 and 2011 for each company. The sdf should look as follows:\n",
    "\n",
    "```\n",
    "+---------------------------+--------------------+\n",
    "|org                        |percentage_change   |\n",
    "+---------------------------+--------------------+\n",
    "|Walt Disney World Resort   |12.3                |\n",
    "|...                        |...                 |\n",
    "+---------------------------+--------------------+\n",
    "```\n",
    "\n",
    "_Note_: A percentage change can be positive or negative depending \n",
    "on the difference between the two years.The formula for percent change is given below,\n",
    "\n",
    "$$\\text{% change} = \\frac{P_f-P_i}{P_f} \\times 100$$\n",
    "\n",
    "Here, $P_f$ is the final element (in this case the number of hires in 2011) and $P_i$ is initial element (the number of hires in 2010).\n",
    "\n",
    "_Hint_: This is a **difficult** question. We recommend using a combination of `GROUP BY` and `JOIN`. Keep in mind that operations between columns in SQL dataframes are often easier than those between rows. "
   ]
  },
  {
   "cell_type": "code",
   "execution_count": null,
   "metadata": {
    "colab": {},
    "colab_type": "code",
    "id": "_AhhfLXpWq7y"
   },
   "outputs": [],
   "source": [
    "# TODO: Create [percentage_change_sdf]\n",
    "\n",
    "## YOUR ANSWER HERE\n"
   ]
  },
  {
   "cell_type": "code",
   "execution_count": null,
   "metadata": {
    "colab": {
     "base_uri": "https://localhost:8080/",
     "height": 454
    },
    "colab_type": "code",
    "executionInfo": {
     "elapsed": 9896,
     "status": "ok",
     "timestamp": 1582171722782,
     "user": {
      "displayName": "Leshang Chen",
      "photoUrl": "",
      "userId": "00573172153387237137"
     },
     "user_tz": 300
    },
    "id": "C6yU97TcyCFB",
    "outputId": "6f01ed8e-2525-41ad-8463-9e4562b0a941"
   },
   "outputs": [],
   "source": [
    "percentage_change_sdf.where(F.col('percentage_change')>0).show()"
   ]
  },
  {
   "cell_type": "code",
   "execution_count": null,
   "metadata": {
    "colab": {
     "base_uri": "https://localhost:8080/",
     "height": 454
    },
    "colab_type": "code",
    "executionInfo": {
     "elapsed": 10033,
     "status": "ok",
     "timestamp": 1582171668919,
     "user": {
      "displayName": "Leshang Chen",
      "photoUrl": "",
      "userId": "00573172153387237137"
     },
     "user_tz": 300
    },
    "id": "QbLTAueQxkHh",
    "outputId": "151bb810-3bfb-4378-ccb2-3a5b921212f3"
   },
   "outputs": [],
   "source": [
    "percentage_change_sdf.show()"
   ]
  },
  {
   "cell_type": "markdown",
   "metadata": {
    "colab_type": "text",
    "id": "QkF2RfLSXO0u"
   },
   "source": [
    "## Step 3: Formatting the Training Data\n",
    "\n",
    "\n",
    "Our overaching goal is to train a machine learning (ML) model that will use the monthly hiring trends of a company to predict a positive or negative gain in the company's stock in the first quarter of the following year. A ML model is trained on a set of observations. Each observation contains a set of features, `X`, and a label, `y`. The goal of the ML model is to create a function that takes any `X` as an input and outputs a predicted `y`. \n",
    "\n",
    "The machine learning model we will use is a [Random Forest Classifier](https://builtin.com/data-science/random-forest-algorithm). Each observation we will pass in will have 24 features (columns). These are the number of people hired from Jan to Dec and the company stock price on the last day of each month. The label will be the direction of the company's stock percentage change (positive, `1`, or negative, `-1`) in the first quarter of the following year. Each observation will correspond to a specified company's trends on a specified year. The format of our final training sdf is shown below. The first 26 columns define our observations, `X`, and the last column the label, `y`.\n",
    "```\n",
    "+----+-----+----------+---------+----------+----------+---------+----------+-------------+\n",
    "|org |year |jan_hired |   ...   |dec_hired |jan_stock |   ...   |dec_stock |stock_result |\n",
    "+----+-----+----------+---------+----------+----------+---------+----------+-------------+\n",
    "|IBM |2008 |...       |   ...   |...       |...       |   ...   |...       |1            |\n",
    "|IBM |2009 |...       |   ...   |...       |...       |   ...   |...       |-1           |\n",
    "|... |...  |...       |   ...   |...       |...       |   ...   |...       |...          |\n",
    "+----+-----+----------+---------+----------+----------+---------+----------+-------------+\n",
    "```\n",
    "\n",
    "_Note_: We will use the first three letters of each month in naming, i.e. `jan, feb, mar, apr, may, jun, jul, aug, sep, oct, nov, dec`\n",
    "\n",
    "\n",
    "\n",
    "### Step 3.1: The Harmonious Hires\n",
    "\n",
    "Your first task is to create the first half of the training table, i.e. the `jan_hired` through `dec_hired` columns. This will involve reshaping `start_dates_sdf`. Currently, `start_dates_sdf` has columns `org`, `start_date`, and `num_employees`. We want to group the rows together based on common `org` and years and create new columns for the number of employees that started working in each month of that year.\n",
    "\n",
    "Create an sdf called `raw_hirings_for_training_sdf` that has for a single company and a single year, the number of hires in Jan through Dec, and the total number of hires that year. Note that for each company you will have several rows corresponding to years between 2000 and 2011. It is ok if for a given company you don't have a given year. However, ensure that for a given company and given year, each month column has an entry, i.e. if no one was hired the value should be `0`. The format of the sdf is shown below: \n",
    "```\n",
    "+----+-----+----------+---------+----------+----------+\n",
    "|org |year |jan_hired |   ...   |dec_hired |total_num |\n",
    "+----+-----+----------+---------+----------+----------+\n",
    "|IBM |2008 |...       |   ...   |...       |...       |\n",
    "|IBM |2009 |...       |   ...   |...       |...       |\n",
    "|... |...  |...       |   ...   |...       |...       |\n",
    "+----+-----+----------+---------+----------+----------+\n",
    "```\n",
    "_Hint_: This is a **difficult** question. The tricky part is creating the additional columns of monthly hires, specifically when there are missing dates. In our dataset, if a company did not hire anybody in a given date, it will not appear in `start_dates_sdf`. We suggest you look into `CASE` and `WHEN` statements in the [function list](https://spark.apache.org/docs/2.3.0/api/sql/index.html)."
   ]
  },
  {
   "cell_type": "code",
   "execution_count": null,
   "metadata": {
    "colab": {},
    "colab_type": "code",
    "id": "btp2wboHqg2J"
   },
   "outputs": [],
   "source": [
    "# TODO: Create [raw_hire_train_sdf]\n",
    "\n",
    "## YOUR SOLUTION HERE\n"
   ]
  },
  {
   "cell_type": "code",
   "execution_count": null,
   "metadata": {
    "colab": {
     "base_uri": "https://localhost:8080/",
     "height": 474
    },
    "colab_type": "code",
    "executionInfo": {
     "elapsed": 7619,
     "status": "ok",
     "timestamp": 1582171748594,
     "user": {
      "displayName": "Leshang Chen",
      "photoUrl": "",
      "userId": "00573172153387237137"
     },
     "user_tz": 300
    },
    "id": "oOY-mC6ryMN0",
    "outputId": "e70f0f89-503f-4f39-de89-4f22b0d1e6fc"
   },
   "outputs": [],
   "source": [
    "raw_hire_train_sdf.show()"
   ]
  },
  {
   "cell_type": "markdown",
   "metadata": {
    "colab_type": "text",
    "id": "IkXyet6rrczK"
   },
   "source": [
    "### Step 3.2: The Formidable Filters\n",
    "\n",
    "Create an sdf called `hire_train_sdf` that contains all the observations in `raw_hire_train_sdf` with `total_num` greater than or equal to 10. The format of the sdf is shown below:\n",
    "\n",
    "```\n",
    "+----+-----+----------+---------+----------+----------+\n",
    "|org |year |jan_hired |   ...   |dec_hired |total_num |\n",
    "+----+-----+----------+---------+----------+----------+\n",
    "|IBM |2008 |...       |   ...   |...       |...       |\n",
    "|IBM |2009 |...       |   ...   |...       |...       |\n",
    "|... |...  |...       |   ...   |...       |...       |\n",
    "+----+-----+----------+---------+----------+----------+\n",
    "```\n"
   ]
  },
  {
   "cell_type": "code",
   "execution_count": null,
   "metadata": {
    "colab": {},
    "colab_type": "code",
    "id": "dCH4mbNcshq9"
   },
   "outputs": [],
   "source": [
    "# TODO: Create [hire_train_sdf]\n",
    "\n",
    "##YOUR SOLUTION HERE\n"
   ]
  },
  {
   "cell_type": "code",
   "execution_count": null,
   "metadata": {
    "colab": {
     "base_uri": "https://localhost:8080/",
     "height": 474
    },
    "colab_type": "code",
    "executionInfo": {
     "elapsed": 6958,
     "status": "ok",
     "timestamp": 1582171919864,
     "user": {
      "displayName": "Leshang Chen",
      "photoUrl": "",
      "userId": "00573172153387237137"
     },
     "user_tz": 300
    },
    "id": "_OQ-tLj_xXsf",
    "outputId": "82d6dc02-c7ef-4ed7-933a-26e799f14f00"
   },
   "outputs": [],
   "source": [
    "hire_train_sdf.show()"
   ]
  },
  {
   "cell_type": "markdown",
   "metadata": {
    "colab_type": "text",
    "id": "MN4ik70Hta01"
   },
   "source": [
    "### Step 3.3: The Stupendous Stocks\n",
    "\n",
    "Now we are ready for the stock data. The stock data we will use is saved in the same S3 bucket as `linkedin.json`. Load the data into the EMR cluster. Run the cell below. ***You do not need to edit this cell***."
   ]
  },
  {
   "cell_type": "code",
   "execution_count": null,
   "metadata": {
    "colab": {
     "base_uri": "https://localhost:8080/",
     "height": 286
    },
    "colab_type": "code",
    "executionInfo": {
     "elapsed": 606,
     "status": "ok",
     "timestamp": 1582171929723,
     "user": {
      "displayName": "Leshang Chen",
      "photoUrl": "",
      "userId": "00573172153387237137"
     },
     "user_tz": 300
    },
    "id": "APv4BxKw643q",
    "outputId": "21f24187-66a5-46c3-b0b5-8a47a8e3985f"
   },
   "outputs": [],
   "source": [
    "# Load stock data\n",
    "raw_stocks_sdf = spark.read.format(\"csv\") \\\n",
    "              .option(\"header\", \"true\") \\\n",
    "              .load(\"./drive/My Drive/Colab Notebooks/stock_prices.csv\")\n",
    "\n",
    "# Creates SQL-accesible table\n",
    "raw_stocks_sdf.createOrReplaceTempView('raw_stocks')\n",
    "\n",
    "# Display the first 10 rows\n",
    "query = '''SELECT *\n",
    "           FROM raw_stocks'''\n",
    "spark.sql(query).show(10)\n"
   ]
  },
  {
   "cell_type": "markdown",
   "metadata": {
    "colab_type": "text",
    "id": "JUCdr3zDUAFH"
   },
   "source": [
    "Run the cell below to see the types of the columns in our data frame. These are not correct. We could have defined a schema when reading in data but we will handle this issue in another manner. You will do this in Step 3.4.2."
   ]
  },
  {
   "cell_type": "code",
   "execution_count": null,
   "metadata": {
    "colab": {
     "base_uri": "https://localhost:8080/",
     "height": 34
    },
    "colab_type": "code",
    "executionInfo": {
     "elapsed": 329,
     "status": "ok",
     "timestamp": 1582171931898,
     "user": {
      "displayName": "Leshang Chen",
      "photoUrl": "",
      "userId": "00573172153387237137"
     },
     "user_tz": 300
    },
    "id": "oNTGEfxsisqs",
    "outputId": "7e456ca9-4ad9-48ac-9335-4393ab78c295"
   },
   "outputs": [],
   "source": [
    "# Print types of SDF\n",
    "raw_stocks_sdf.dtypes"
   ]
  },
  {
   "cell_type": "markdown",
   "metadata": {
    "colab_type": "text",
    "id": "0DdnoFkP7mxz"
   },
   "source": [
    "### Step 3.4 The Clairvoyant Cleaning\n",
    "\n",
    "We now want to format the stock data set into the second half of the training table. We will then merge it with `hire_train` based off the common `org` and `year` fields.\n",
    "\n",
    "#### Step 3.4.1 The Ubiquitous UDF\n",
    "\n",
    "The companies in our stock dataset are defined by their stock tickers. Thus, we would not be able to merge it with the `org` field in `hire_train_sdf`. We must convert them to that format. Often times when using Spark, there may not be a built-in SQL function that can do the operation we desired. Instead, we can create one on our own with a user-defined function (udf).\n",
    "\n",
    "A udf is defined as a normal Python function and then registered to be used as a Spark SQL function. Your task is to create a udf, `TICKER_TO_NAME()` that will convert the ticker field in `raw_stocks` to the company's name. This will be done using the provided `ticker_to_name_dict` dictionary. We are only interested in the companies in that dictionary.\n",
    "\n",
    "Fill out the function `ticker_to_name()` below. Then use `spark.udf.register()` to register it as a SQL function. The command is provided. ***You do not need to edit it***. Note, we have defined the udf as returning `StringType()`. Ensure that your function returns this. You must also deal with any potential `null` cases."
   ]
  },
  {
   "cell_type": "code",
   "execution_count": null,
   "metadata": {
    "colab": {
     "base_uri": "https://localhost:8080/",
     "height": 34
    },
    "colab_type": "code",
    "executionInfo": {
     "elapsed": 358,
     "status": "ok",
     "timestamp": 1582171948113,
     "user": {
      "displayName": "Leshang Chen",
      "photoUrl": "",
      "userId": "00573172153387237137"
     },
     "user_tz": 300
    },
    "id": "P4cJWZsr8iNC",
    "outputId": "b2c28a48-9806-49d1-93e1-6a3be981291a"
   },
   "outputs": [],
   "source": [
    "# TODO: Fill out [ticker_to_name()] and register it as a udf.\n",
    "\n",
    "## YOUR SOLUTION HERE\n",
    "\n",
    "def ticker_to_name(ticker):\n",
    "  \n",
    "# Register udf as a SQL function. DO NOT EDIT\n",
    "spark.udf.register(\"TICKER_TO_NAME\", ticker_to_name, StringType())\n"
   ]
  },
  {
   "cell_type": "markdown",
   "metadata": {
    "colab_type": "text",
    "id": "u9YOYO9L-_GS"
   },
   "source": [
    "#### Step 3.4.2: The Fastidious Filters\n",
    "\n",
    "With our new `TICKER_TO_NAME()` function we will begin to wrangle `raw_stocks_sdf`.\n",
    "\n",
    "Create an sdf called `filter_1_stocks_sdf` as follows. Convert all the ticker names in `raw_stocks_sdf` to the company names and save it as `org`. Next, convert the `date` field to a datetime type. As explained before this will help order and group the rows in future steps. Then, convert the type of the values in `closing_price` to `float`. This will take care of the `dtypes` issue we saw in Step 3.3.\n",
    "\n",
    "Drop any company names that do not appear in `ticker_to_name_dict`. Keep any date between January 1st 2001 and December 4th 2012 inclusive, in the format shown below (note this is a datetime object not a string):\n",
    "\n",
    "```\n",
    "+----+------------+--------------+\n",
    "|org |date        |closing_price |\n",
    "+----+------------+--------------+\n",
    "|IBM |2000-01-03  |...           |\n",
    "|... |...         |...           |\n",
    "+----+------------+--------------+\n",
    "```\n",
    "_Hint_: You will use a similar function to filter the dates as in Step 1.4. In Spark SQL the format for the `date` field in `raw_stocks_sdf` is `\"yyyy-MM-dd\"`."
   ]
  },
  {
   "cell_type": "code",
   "execution_count": null,
   "metadata": {
    "colab": {},
    "colab_type": "code",
    "id": "RuiitnWlBYJ7"
   },
   "outputs": [],
   "source": [
    "# TODO: Create [filter_1_stocks_sdf]\n",
    "\n",
    "## YOUR SOLUTION HERE\n"
   ]
  },
  {
   "cell_type": "code",
   "execution_count": null,
   "metadata": {
    "colab": {
     "base_uri": "https://localhost:8080/",
     "height": 454
    },
    "colab_type": "code",
    "executionInfo": {
     "elapsed": 26661,
     "status": "ok",
     "timestamp": 1582171988536,
     "user": {
      "displayName": "Leshang Chen",
      "photoUrl": "",
      "userId": "00573172153387237137"
     },
     "user_tz": 300
    },
    "id": "1y-8pHAlzCyt",
    "outputId": "d0bb4596-6691-4dc4-facb-eb35caa46ea0"
   },
   "outputs": [],
   "source": [
    "filter_1_stocks_sdf.show()"
   ]
  },
  {
   "cell_type": "markdown",
   "metadata": {
    "colab_type": "text",
    "id": "Ne5NaT-6CLns"
   },
   "source": [
    "#### Step 3.4.3: The Magnanimous Months\n",
    "\n",
    "The data in `filter_1_stocks_sdf` gives closing prices on a daily basis. Since we are interested in monthly trends, we will only keep the closing price on the **last trading day of each month**.\n",
    "\n",
    "Create an sdf `filter_2_stocks_sdf` that contains only the closing prices for the last trading day of each month. Note that a trading day is not simply the last day of each month, as this could be on a weekend when the market is closed . The format of the sdf is shown below:\n",
    "\n",
    "```\n",
    "+----+------------+--------------+\n",
    "|org |date        |closing_price |\n",
    "+----+------------+--------------+\n",
    "|IBM |2000-01-31  |...           |\n",
    "|... |...         |...           |\n",
    "+----+------------+--------------+\n",
    "```\n",
    "\n",
    "  _Hint_: It may be helpful to create an intermediate dataframe that will help you filter out the specific dates you desire."
   ]
  },
  {
   "cell_type": "code",
   "execution_count": null,
   "metadata": {
    "colab": {},
    "colab_type": "code",
    "id": "AIx5LUuDD4q_"
   },
   "outputs": [],
   "source": [
    "# TODO: Create [filter_2_stocks_sdf]\n",
    "\n",
    "## YOUR SOLUTION HERE\n"
   ]
  },
  {
   "cell_type": "code",
   "execution_count": null,
   "metadata": {
    "colab": {
     "base_uri": "https://localhost:8080/",
     "height": 454
    },
    "colab_type": "code",
    "executionInfo": {
     "elapsed": 124884,
     "status": "ok",
     "timestamp": 1582172134435,
     "user": {
      "displayName": "Leshang Chen",
      "photoUrl": "",
      "userId": "00573172153387237137"
     },
     "user_tz": 300
    },
    "id": "g94lqwFMzOMI",
    "outputId": "7082b4e8-5c46-4898-ea63-33b1f817ba84"
   },
   "outputs": [],
   "source": [
    "filter_2_stocks_sdf.show()"
   ]
  },
  {
   "cell_type": "markdown",
   "metadata": {
    "colab_type": "text",
    "id": "AG4bACKKEQNl"
   },
   "source": [
    "#### Step 3.4.4: The Rambunctious Reshape\n",
    "\n",
    "Now, we will begin to shape our dataframe into the format of the final training sdf.\n",
    "\n",
    "Create an sdf `filter_3_stocks_sdf` that has for a single company and a single year, the closing stock price for the last trading day of each month in that year. This is similar to the table you created in Step 3.1. In this case since we cannot make a proxy for the closing price if the data is not avaliable, drop any rows containing any `null` values, in any column. The format of the sdf is shown below:\n",
    "\n",
    "```\n",
    "+----+-----+----------+---------+----------+\n",
    "|org |year |jan_stock |   ...   |dec_stock |\n",
    "+----+-----+----------+---------+----------+\n",
    "|IBM |2008 |...       |   ...   |...       |\n",
    "|IBM |2009 |...       |   ...   |...       |\n",
    "|... |...  |...       |   ...   |...       |\n",
    "+----+-----+----------+---------+----------+\n",
    "```\n"
   ]
  },
  {
   "cell_type": "code",
   "execution_count": null,
   "metadata": {
    "colab": {},
    "colab_type": "code",
    "id": "AucLEgvwIr_0"
   },
   "outputs": [],
   "source": [
    "# TODO: Create [filter_3_stocks_sdf]\n",
    "\n",
    "## YOUR SOLUTION HERE\n"
   ]
  },
  {
   "cell_type": "code",
   "execution_count": null,
   "metadata": {
    "colab": {
     "base_uri": "https://localhost:8080/",
     "height": 474
    },
    "colab_type": "code",
    "executionInfo": {
     "elapsed": 125794,
     "status": "ok",
     "timestamp": 1582172260546,
     "user": {
      "displayName": "Leshang Chen",
      "photoUrl": "",
      "userId": "00573172153387237137"
     },
     "user_tz": 300
    },
    "id": "_yWdBbxOzR0L",
    "outputId": "5bcc873b-3987-4f74-da4b-fdf9b8c33f2a"
   },
   "outputs": [],
   "source": [
    "filter_3_stocks_sdf.show()"
   ]
  },
  {
   "cell_type": "markdown",
   "metadata": {
    "colab_type": "text",
    "id": "82OQKp-nIulq"
   },
   "source": [
    "#### Step 3.4.5: The Decisive Direction\n",
    "\n",
    "The final element in our training set is the binary output for each case, i.e. the `y` label. \n",
    "\n",
    "Create an sdf `stocks_train_sdf` from `filter_3_stocks_sdf` with an additional column `direction`. This should be the direction of percentage change in the closing stock price, i.e. `1` for positive or `-1` for negative, in the first quarter of a given year. The quarter of a year begins in January and ends in April, inclusive. We want to know the percent change between these two months. Reference Step 2.2 for the percent change formula. The format of the sdf is shown below:\n",
    "\n",
    "```\n",
    "+----+-----+----------+---------+----------+-------------+\n",
    "|org |year |jan_stock |   ...   |dec_stock |direction    |\n",
    "+----+-----+----------+---------+----------+-------------+\n",
    "|IBM |2008 |...       |   ...   |...       |1.0          |\n",
    "|IBM |2009 |...       |   ...   |...       |-1.0         |\n",
    "|... |...  |...       |   ...   |...       |...          |\n",
    "+----+-----+----------+---------+----------+-------------+\n",
    "```"
   ]
  },
  {
   "cell_type": "code",
   "execution_count": null,
   "metadata": {
    "colab": {},
    "colab_type": "code",
    "id": "yEFJIfyZKf7B"
   },
   "outputs": [],
   "source": [
    "# TODO: Create [stocks_train_sdf]\n",
    "\n",
    " ## YOUR SOLUTION HERE\n"
   ]
  },
  {
   "cell_type": "code",
   "execution_count": null,
   "metadata": {
    "colab": {
     "base_uri": "https://localhost:8080/",
     "height": 474
    },
    "colab_type": "code",
    "executionInfo": {
     "elapsed": 126202,
     "status": "ok",
     "timestamp": 1582172386778,
     "user": {
      "displayName": "Leshang Chen",
      "photoUrl": "",
      "userId": "00573172153387237137"
     },
     "user_tz": 300
    },
    "id": "DMH6HO7PziEf",
    "outputId": "407253c4-1860-4d4a-b035-e79bb1e1837c"
   },
   "outputs": [],
   "source": [
    "stocks_train_sdf.show()"
   ]
  },
  {
   "cell_type": "markdown",
   "metadata": {
    "colab_type": "text",
    "id": "Fd2nviNpM2dF"
   },
   "source": [
    "### Step 3.5: The Capricious Combination\n",
    "\n",
    "Now that we have individually created the two halfs of our training data we will merge them together to create the final training sdf we showed in the beginning of Step 3.\n",
    "\n",
    "Create an sdf called `training_sdf` in the format of the one shown at the beginning of Step 3. Note that in our definition for the `stock_result` column, the `stock_result` value for a particular year corresponds to the direction of the stock percentage change in the **following** year. For example, the stock_result in the `2008` row for `IBM` will contain the direction of IBM's stock in the first quarter of 2009. The format of the sdf is shown below:\n",
    "```\n",
    "+----+-----+----------+---------+----------+----------+---------+----------+-------------+\n",
    "|org |year |jan_hired |   ...   |dec_hired |jan_stock |   ...   |dec_stock |stock_result |\n",
    "+----+-----+----------+---------+----------+----------+---------+----------+-------------+\n",
    "|IBM |2008 |...       |   ...   |...       |...       |   ...   |...       |-1.0         |\n",
    "|IBM |2009 |...       |   ...   |...       |...       |   ...   |...       |1.0          |\n",
    "|... |...  |...       |   ...   |...       |...       |   ...   |...       |...          |\n",
    "+----+-----+----------+---------+----------+----------+---------+----------+-------------+\n",
    "```"
   ]
  },
  {
   "cell_type": "code",
   "execution_count": null,
   "metadata": {
    "colab": {},
    "colab_type": "code",
    "id": "8ZIb6QkcO5RB"
   },
   "outputs": [],
   "source": [
    "# TODO: Create [training_sdf]\n",
    "\n",
    "## YOUR SOLUTION HERE\n"
   ]
  },
  {
   "cell_type": "code",
   "execution_count": null,
   "metadata": {
    "colab": {
     "base_uri": "https://localhost:8080/",
     "height": 474
    },
    "colab_type": "code",
    "executionInfo": {
     "elapsed": 248033,
     "status": "ok",
     "timestamp": 1582172660612,
     "user": {
      "displayName": "Leshang Chen",
      "photoUrl": "",
      "userId": "00573172153387237137"
     },
     "user_tz": 300
    },
    "id": "XtA1vdPEz3gn",
    "outputId": "7cb607d3-ccf8-4c20-8164-93a13dff035b"
   },
   "outputs": [],
   "source": [
    "training_sdf.show()"
   ]
  },
  {
   "cell_type": "code",
   "execution_count": null,
   "metadata": {
    "colab": {},
    "colab_type": "code",
    "id": "FP6uIJUfz4XL"
   },
   "outputs": [],
   "source": []
  }
 ],
 "metadata": {
  "colab": {
   "collapsed_sections": [],
   "machine_shape": "hm",
   "name": "Homework_no_Sol_Local_New_Data.ipynb",
   "provenance": [
    {
     "file_id": "1V4kiujaAnm3hHMomSK1eDz5jQjdKxmWU",
     "timestamp": 1571083042642
    }
   ],
   "toc_visible": true
  },
  "kernelspec": {
   "display_name": "Python 3",
   "language": "python",
   "name": "python3"
  },
  "language_info": {
   "codemirror_mode": {
    "name": "ipython",
    "version": 3
   },
   "file_extension": ".py",
   "mimetype": "text/x-python",
   "name": "python",
   "nbconvert_exporter": "python",
   "pygments_lexer": "ipython3",
   "version": "3.7.2"
  }
 },
 "nbformat": 4,
 "nbformat_minor": 1
}
